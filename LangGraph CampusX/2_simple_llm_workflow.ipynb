{
 "cells": [
  {
   "cell_type": "markdown",
   "id": "ab54e1a7",
   "metadata": {},
   "source": [
    "## Basic Simple Chatbot"
   ]
  },
  {
   "cell_type": "code",
   "execution_count": 19,
   "id": "78b1aaf8",
   "metadata": {},
   "outputs": [],
   "source": [
    "from langgraph.graph import StateGraph, START ,END\n",
    "from langchain_openai import ChatOpenAI\n",
    "from typing import TypedDict\n",
    "from dotenv import load_dotenv"
   ]
  },
  {
   "cell_type": "code",
   "execution_count": 20,
   "id": "48c0a00c",
   "metadata": {},
   "outputs": [],
   "source": [
    "load_dotenv()\n",
    "# Get environment variable\n",
    "api_key = os.getenv(\"OPENAI_API_KEY\")"
   ]
  },
  {
   "cell_type": "code",
   "execution_count": 21,
   "id": "44018656",
   "metadata": {},
   "outputs": [],
   "source": [
    "model =  ChatOpenAI()"
   ]
  },
  {
   "cell_type": "code",
   "execution_count": 22,
   "id": "8321b8c4",
   "metadata": {},
   "outputs": [],
   "source": [
    "## Create a state\n",
    "\n",
    "class LLMState(TypedDict):\n",
    "    question: str\n",
    "    answer: str"
   ]
  },
  {
   "cell_type": "code",
   "execution_count": 23,
   "id": "813332c6",
   "metadata": {},
   "outputs": [],
   "source": [
    "def llm_qa(state: LLMState) -> LLMState:\n",
    "    \n",
    "    ## Extract the queston from the state\n",
    "    question = state['question']\n",
    "    \n",
    "    ## Form a prompt\n",
    "    prompt = f'Answer the following quesiton {question}'\n",
    "    \n",
    "    ## Ask the question to LLM\n",
    "    answer = model.invoke(prompt).content\n",
    "    \n",
    "    ## update the answer in the state\n",
    "    state['answer'] = answer\n",
    "    \n",
    "    return state"
   ]
  },
  {
   "cell_type": "code",
   "execution_count": 25,
   "id": "ea45cbf7",
   "metadata": {},
   "outputs": [],
   "source": [
    "## Create Graph \n",
    "\n",
    "graph = StateGraph(LLMState)\n",
    "\n",
    "## add nodes\n",
    "\n",
    "graph.add_node(\"llm_qa\", llm_qa)\n",
    "\n",
    "## Add edges\n",
    "\n",
    "graph.add_edge(START, 'llm_qa')\n",
    "graph.add_edge('llm_qa', END)\n",
    "\n",
    "workflow = graph.compile()"
   ]
  },
  {
   "cell_type": "code",
   "execution_count": null,
   "id": "506e0f67",
   "metadata": {},
   "outputs": [
    {
     "data": {
      "text/plain": [
       "{'question': 'How far is the moon from earth'}"
      ]
     },
     "execution_count": 26,
     "metadata": {},
     "output_type": "execute_result"
    }
   ],
   "source": [
    "initial_state = {'question': 'How far is the moon from earth'}\n",
    "\n",
    "final_state = workflow.invoke(initial_state)"
   ]
  },
  {
   "cell_type": "code",
   "execution_count": 28,
   "id": "8f839335",
   "metadata": {},
   "outputs": [
    {
     "data": {
      "text/plain": [
       "'The average distance from the Earth to the Moon is about 384,400 kilometers (238,855 miles).'"
      ]
     },
     "execution_count": 28,
     "metadata": {},
     "output_type": "execute_result"
    }
   ],
   "source": [
    "final_state[\"answer\"]"
   ]
  },
  {
   "cell_type": "code",
   "execution_count": null,
   "id": "d7a67683",
   "metadata": {},
   "outputs": [],
   "source": []
  },
  {
   "cell_type": "markdown",
   "id": "47ecd7ac",
   "metadata": {},
   "source": []
  }
 ],
 "metadata": {
  "kernelspec": {
   "display_name": "global_env",
   "language": "python",
   "name": "global_env"
  },
  "language_info": {
   "codemirror_mode": {
    "name": "ipython",
    "version": 3
   },
   "file_extension": ".py",
   "mimetype": "text/x-python",
   "name": "python",
   "nbconvert_exporter": "python",
   "pygments_lexer": "ipython3",
   "version": "3.12.0"
  }
 },
 "nbformat": 4,
 "nbformat_minor": 5
}
