{
 "cells": [
  {
   "cell_type": "code",
   "execution_count": 4,
   "id": "b608f427",
   "metadata": {},
   "outputs": [],
   "source": [
    "from langgraph.graph import StateGraph, START, END\n",
    "from typing import TypedDict\n",
    "from langchain_openai import ChatOpenAI\n",
    "from dotenv import load_dotenv\n",
    "from langgraph.checkpoint.memory import InMemorySaver"
   ]
  },
  {
   "cell_type": "code",
   "execution_count": 5,
   "id": "022c47ad",
   "metadata": {},
   "outputs": [],
   "source": [
    "load_dotenv()\n",
    "llm = ChatOpenAI()"
   ]
  },
  {
   "cell_type": "code",
   "execution_count": 6,
   "id": "39ff514b",
   "metadata": {},
   "outputs": [],
   "source": [
    "\n",
    "class JokeState(TypedDict):\n",
    "    topic: str\n",
    "    joke: str\n",
    "    explanation: str"
   ]
  },
  {
   "cell_type": "code",
   "execution_count": 7,
   "id": "4cf777e2",
   "metadata": {},
   "outputs": [],
   "source": [
    "def generate_joke(state: JokeState):\n",
    "    prompt = f'write few line joke about the topic - {state['topic']}'\n",
    "    \n",
    "    response = llm.invoke(prompt).content\n",
    "    \n",
    "    return {'joke': response}\n",
    "\n",
    "def generate_explanation(state: JokeState):\n",
    "    prompt = f'write an explanation for the joke - {state['joke']}'\n",
    "    \n",
    "    response = llm.invoke(prompt).content\n",
    "    \n",
    "    return {'explanation': response}\n",
    "\n"
   ]
  },
  {
   "cell_type": "code",
   "execution_count": 8,
   "id": "bac65ba9",
   "metadata": {},
   "outputs": [],
   "source": [
    "graph = StateGraph(JokeState)\n",
    "\n",
    "graph.add_node('generate_joke', generate_joke)\n",
    "graph.add_node('generate_explanation', generate_explanation)\n",
    "\n",
    "graph.add_edge(START, 'generate_joke')\n",
    "graph.add_edge('generate_joke', 'generate_explanation')\n",
    "graph.add_edge('generate_explanation', END)\n",
    "\n",
    "\n",
    "checkpointer = InMemorySaver()\n",
    "\n",
    "workflow = graph.compile(checkpointer=checkpointer)\n"
   ]
  },
  {
   "cell_type": "code",
   "execution_count": 14,
   "id": "31349c4e",
   "metadata": {},
   "outputs": [
    {
     "data": {
      "text/plain": [
       "{'topic': 'sandwitch',\n",
       " 'joke': 'Why did the sandwich go to the dentist? Because it had a filling!',\n",
       " 'explanation': 'This joke plays on the double meaning of the word \"filling.\" In dentistry, a filling is a material used to repair a cavity in a tooth. However, in the context of a sandwich, a filling refers to the tasty ingredients that are placed between the bread. So, when the joke says the sandwich went to the dentist because it had a filling, it is meant to be a play on words and not to be taken literally. It is a lighthearted and silly way to humorously explain why the sandwich needed to see the dentist.'}"
      ]
     },
     "execution_count": 14,
     "metadata": {},
     "output_type": "execute_result"
    }
   ],
   "source": [
    "config1 = {'configurable': {\"thread_id\": \"1\"}}\n",
    "\n",
    "workflow.invoke({'topic': 'sandwitch'}, config=config1)"
   ]
  },
  {
   "cell_type": "code",
   "execution_count": 16,
   "id": "c3183c44",
   "metadata": {},
   "outputs": [
    {
     "data": {
      "text/plain": [
       "StateSnapshot(values={'topic': 'sandwitch', 'joke': 'Why did the sandwich go to the dentist? Because it had a filling!', 'explanation': 'This joke plays on the double meaning of the word \"filling.\" In dentistry, a filling is a material used to repair a cavity in a tooth. However, in the context of a sandwich, a filling refers to the tasty ingredients that are placed between the bread. So, when the joke says the sandwich went to the dentist because it had a filling, it is meant to be a play on words and not to be taken literally. It is a lighthearted and silly way to humorously explain why the sandwich needed to see the dentist.'}, next=(), config={'configurable': {'thread_id': '1', 'checkpoint_ns': '', 'checkpoint_id': '1f070a15-ac39-6ac1-8006-eaf746035ebc'}}, metadata={'source': 'loop', 'writes': {'generate_explanation': {'explanation': 'This joke plays on the double meaning of the word \"filling.\" In dentistry, a filling is a material used to repair a cavity in a tooth. However, in the context of a sandwich, a filling refers to the tasty ingredients that are placed between the bread. So, when the joke says the sandwich went to the dentist because it had a filling, it is meant to be a play on words and not to be taken literally. It is a lighthearted and silly way to humorously explain why the sandwich needed to see the dentist.'}}, 'thread_id': '1', 'step': 6, 'parents': {}}, created_at='2025-08-03T19:37:56.329910+00:00', parent_config={'configurable': {'thread_id': '1', 'checkpoint_ns': '', 'checkpoint_id': '1f070a15-9853-63ef-8005-29f999e7b0d5'}}, tasks=())"
      ]
     },
     "execution_count": 16,
     "metadata": {},
     "output_type": "execute_result"
    }
   ],
   "source": [
    "workflow.get_state(config1)"
   ]
  },
  {
   "cell_type": "code",
   "execution_count": 17,
   "id": "6e8083ba",
   "metadata": {},
   "outputs": [
    {
     "data": {
      "text/plain": [
       "[StateSnapshot(values={'topic': 'sandwitch', 'joke': 'Why did the sandwich go to the dentist? Because it had a filling!', 'explanation': 'This joke plays on the double meaning of the word \"filling.\" In dentistry, a filling is a material used to repair a cavity in a tooth. However, in the context of a sandwich, a filling refers to the tasty ingredients that are placed between the bread. So, when the joke says the sandwich went to the dentist because it had a filling, it is meant to be a play on words and not to be taken literally. It is a lighthearted and silly way to humorously explain why the sandwich needed to see the dentist.'}, next=(), config={'configurable': {'thread_id': '1', 'checkpoint_ns': '', 'checkpoint_id': '1f070a15-ac39-6ac1-8006-eaf746035ebc'}}, metadata={'source': 'loop', 'writes': {'generate_explanation': {'explanation': 'This joke plays on the double meaning of the word \"filling.\" In dentistry, a filling is a material used to repair a cavity in a tooth. However, in the context of a sandwich, a filling refers to the tasty ingredients that are placed between the bread. So, when the joke says the sandwich went to the dentist because it had a filling, it is meant to be a play on words and not to be taken literally. It is a lighthearted and silly way to humorously explain why the sandwich needed to see the dentist.'}}, 'thread_id': '1', 'step': 6, 'parents': {}}, created_at='2025-08-03T19:37:56.329910+00:00', parent_config={'configurable': {'thread_id': '1', 'checkpoint_ns': '', 'checkpoint_id': '1f070a15-9853-63ef-8005-29f999e7b0d5'}}, tasks=()),\n",
       " StateSnapshot(values={'topic': 'sandwitch', 'joke': 'Why did the sandwich go to the dentist? Because it had a filling!', 'explanation': 'This joke plays on the double meaning of the phrase \"life of the party.\" In one sense, being the life of the party means being the most lively and entertaining person at the gathering. In another sense, the term \"life of the party\" can also refer to someone or something that is essential to the success and enjoyment of the event. In this case, the pizza humorously decides to go to the party because it wants to be considered the essential and most popular item at the event, in essence, being the \"life of the party.\"'}, next=('generate_explanation',), config={'configurable': {'thread_id': '1', 'checkpoint_ns': '', 'checkpoint_id': '1f070a15-9853-63ef-8005-29f999e7b0d5'}}, metadata={'source': 'loop', 'writes': {'generate_joke': {'joke': 'Why did the sandwich go to the dentist? Because it had a filling!'}}, 'thread_id': '1', 'step': 5, 'parents': {}}, created_at='2025-08-03T19:37:54.243240+00:00', parent_config={'configurable': {'thread_id': '1', 'checkpoint_ns': '', 'checkpoint_id': '1f070a15-8f03-6002-8004-f1907adf42c3'}}, tasks=(PregelTask(id='9360b82a-98da-47a3-4fb7-5fc2c00f3f2e', name='generate_explanation', path=('__pregel_pull', 'generate_explanation'), error=None, interrupts=(), state=None, result={'explanation': 'This joke plays on the double meaning of the word \"filling.\" In dentistry, a filling is a material used to repair a cavity in a tooth. However, in the context of a sandwich, a filling refers to the tasty ingredients that are placed between the bread. So, when the joke says the sandwich went to the dentist because it had a filling, it is meant to be a play on words and not to be taken literally. It is a lighthearted and silly way to humorously explain why the sandwich needed to see the dentist.'}),)),\n",
       " StateSnapshot(values={'topic': 'sandwitch', 'joke': 'Why did the pizza go to the party? Because it wanted to be the \"life of the party\"!', 'explanation': 'This joke plays on the double meaning of the phrase \"life of the party.\" In one sense, being the life of the party means being the most lively and entertaining person at the gathering. In another sense, the term \"life of the party\" can also refer to someone or something that is essential to the success and enjoyment of the event. In this case, the pizza humorously decides to go to the party because it wants to be considered the essential and most popular item at the event, in essence, being the \"life of the party.\"'}, next=('generate_joke',), config={'configurable': {'thread_id': '1', 'checkpoint_ns': '', 'checkpoint_id': '1f070a15-8f03-6002-8004-f1907adf42c3'}}, metadata={'source': 'loop', 'writes': None, 'thread_id': '1', 'step': 4, 'parents': {}}, created_at='2025-08-03T19:37:53.266628+00:00', parent_config={'configurable': {'thread_id': '1', 'checkpoint_ns': '', 'checkpoint_id': '1f070a15-8efd-6f6b-8003-79379b79630b'}}, tasks=(PregelTask(id='10140892-74c1-fa73-7856-d9dc6a5efb78', name='generate_joke', path=('__pregel_pull', 'generate_joke'), error=None, interrupts=(), state=None, result={'joke': 'Why did the sandwich go to the dentist? Because it had a filling!'}),)),\n",
       " StateSnapshot(values={'topic': 'pizza', 'joke': 'Why did the pizza go to the party? Because it wanted to be the \"life of the party\"!', 'explanation': 'This joke plays on the double meaning of the phrase \"life of the party.\" In one sense, being the life of the party means being the most lively and entertaining person at the gathering. In another sense, the term \"life of the party\" can also refer to someone or something that is essential to the success and enjoyment of the event. In this case, the pizza humorously decides to go to the party because it wants to be considered the essential and most popular item at the event, in essence, being the \"life of the party.\"'}, next=('__start__',), config={'configurable': {'thread_id': '1', 'checkpoint_ns': '', 'checkpoint_id': '1f070a15-8efd-6f6b-8003-79379b79630b'}}, metadata={'source': 'input', 'writes': {'__start__': {'topic': 'sandwitch'}}, 'thread_id': '1', 'step': 3, 'parents': {}}, created_at='2025-08-03T19:37:53.264589+00:00', parent_config={'configurable': {'thread_id': '1', 'checkpoint_ns': '', 'checkpoint_id': '1f070a0f-f7f6-6f36-8002-04dd9f991914'}}, tasks=(PregelTask(id='77b202c2-fec9-105f-a434-c50d068867ed', name='__start__', path=('__pregel_pull', '__start__'), error=None, interrupts=(), state=None, result={'topic': 'sandwitch'}),)),\n",
       " StateSnapshot(values={'topic': 'pizza', 'joke': 'Why did the pizza go to the party? Because it wanted to be the \"life of the party\"!', 'explanation': 'This joke plays on the double meaning of the phrase \"life of the party.\" In one sense, being the life of the party means being the most lively and entertaining person at the gathering. In another sense, the term \"life of the party\" can also refer to someone or something that is essential to the success and enjoyment of the event. In this case, the pizza humorously decides to go to the party because it wants to be considered the essential and most popular item at the event, in essence, being the \"life of the party.\"'}, next=(), config={'configurable': {'thread_id': '1', 'checkpoint_ns': '', 'checkpoint_id': '1f070a0f-f7f6-6f36-8002-04dd9f991914'}}, metadata={'source': 'loop', 'writes': {'generate_explanation': {'explanation': 'This joke plays on the double meaning of the phrase \"life of the party.\" In one sense, being the life of the party means being the most lively and entertaining person at the gathering. In another sense, the term \"life of the party\" can also refer to someone or something that is essential to the success and enjoyment of the event. In this case, the pizza humorously decides to go to the party because it wants to be considered the essential and most popular item at the event, in essence, being the \"life of the party.\"'}}, 'thread_id': '1', 'step': 2, 'parents': {}}, created_at='2025-08-03T19:35:23.210493+00:00', parent_config={'configurable': {'thread_id': '1', 'checkpoint_ns': '', 'checkpoint_id': '1f070a0f-db1a-6d37-8001-367af02be3a9'}}, tasks=()),\n",
       " StateSnapshot(values={'topic': 'pizza', 'joke': 'Why did the pizza go to the party? Because it wanted to be the \"life of the party\"!'}, next=('generate_explanation',), config={'configurable': {'thread_id': '1', 'checkpoint_ns': '', 'checkpoint_id': '1f070a0f-db1a-6d37-8001-367af02be3a9'}}, metadata={'source': 'loop', 'writes': {'generate_joke': {'joke': 'Why did the pizza go to the party? Because it wanted to be the \"life of the party\"!'}}, 'thread_id': '1', 'step': 1, 'parents': {}}, created_at='2025-08-03T19:35:20.184319+00:00', parent_config={'configurable': {'thread_id': '1', 'checkpoint_ns': '', 'checkpoint_id': '1f070a0f-8e69-6058-8000-80892ddec361'}}, tasks=(PregelTask(id='06aab0dd-0da6-2358-e248-da92c9fdda7c', name='generate_explanation', path=('__pregel_pull', 'generate_explanation'), error=None, interrupts=(), state=None, result={'explanation': 'This joke plays on the double meaning of the phrase \"life of the party.\" In one sense, being the life of the party means being the most lively and entertaining person at the gathering. In another sense, the term \"life of the party\" can also refer to someone or something that is essential to the success and enjoyment of the event. In this case, the pizza humorously decides to go to the party because it wants to be considered the essential and most popular item at the event, in essence, being the \"life of the party.\"'}),)),\n",
       " StateSnapshot(values={'topic': 'pizza'}, next=('generate_joke',), config={'configurable': {'thread_id': '1', 'checkpoint_ns': '', 'checkpoint_id': '1f070a0f-8e69-6058-8000-80892ddec361'}}, metadata={'source': 'loop', 'writes': None, 'thread_id': '1', 'step': 0, 'parents': {}}, created_at='2025-08-03T19:35:12.142292+00:00', parent_config={'configurable': {'thread_id': '1', 'checkpoint_ns': '', 'checkpoint_id': '1f070a0f-8e60-6d6a-bfff-6011f6a4e732'}}, tasks=(PregelTask(id='4ee39e55-7508-c0e7-fcd7-cef8ca8b8821', name='generate_joke', path=('__pregel_pull', 'generate_joke'), error=None, interrupts=(), state=None, result={'joke': 'Why did the pizza go to the party? Because it wanted to be the \"life of the party\"!'}),)),\n",
       " StateSnapshot(values={}, next=('__start__',), config={'configurable': {'thread_id': '1', 'checkpoint_ns': '', 'checkpoint_id': '1f070a0f-8e60-6d6a-bfff-6011f6a4e732'}}, metadata={'source': 'input', 'writes': {'__start__': {'topic': 'pizza'}}, 'thread_id': '1', 'step': -1, 'parents': {}}, created_at='2025-08-03T19:35:12.138953+00:00', parent_config=None, tasks=(PregelTask(id='a2f706dd-67f7-6c91-f8b8-ce72e8550067', name='__start__', path=('__pregel_pull', '__start__'), error=None, interrupts=(), state=None, result={'topic': 'pizza'}),))]"
      ]
     },
     "execution_count": 17,
     "metadata": {},
     "output_type": "execute_result"
    }
   ],
   "source": [
    "list(workflow.get_state_history(config1))"
   ]
  },
  {
   "cell_type": "code",
   "execution_count": null,
   "id": "2bdea835",
   "metadata": {},
   "outputs": [],
   "source": []
  },
  {
   "cell_type": "markdown",
   "id": "54b6ce6a",
   "metadata": {},
   "source": [
    "## Time Travel\n",
    "\n"
   ]
  },
  {
   "cell_type": "code",
   "execution_count": null,
   "id": "c078c699",
   "metadata": {},
   "outputs": [
    {
     "data": {
      "text/plain": [
       "StateSnapshot(values={'topic': 'pizza'}, next=('generate_joke',), config={'configurable': {'thread_id': '1', 'checkpoint_id': '1f070a0f-8e69-6058-8000-80892ddec361'}}, metadata={'source': 'loop', 'writes': None, 'thread_id': '1', 'step': 0, 'parents': {}}, created_at='2025-08-03T19:35:12.142292+00:00', parent_config={'configurable': {'thread_id': '1', 'checkpoint_ns': '', 'checkpoint_id': '1f070a0f-8e60-6d6a-bfff-6011f6a4e732'}}, tasks=(PregelTask(id='4ee39e55-7508-c0e7-fcd7-cef8ca8b8821', name='generate_joke', path=('__pregel_pull', 'generate_joke'), error=None, interrupts=(), state=None, result={'joke': 'Why did the pizza go to the party? Because it wanted to be the \"life of the party\"!'}),))"
      ]
     },
     "execution_count": 18,
     "metadata": {},
     "output_type": "execute_result"
    }
   ],
   "source": [
    "## Get to that specific checkpoint you want to go to.\n",
    "workflow.get_state({'configurable': {\"thread_id\": \"1\", 'checkpoint_id': '1f070a0f-8e69-6058-8000-80892ddec361'}})"
   ]
  },
  {
   "cell_type": "code",
   "execution_count": 19,
   "id": "37daaecd",
   "metadata": {},
   "outputs": [
    {
     "data": {
      "text/plain": [
       "{'topic': 'pizza',\n",
       " 'joke': 'Why did the pizza go to the party? Because it wanted to get a little saucy!\\n\\nI ordered a pizza with extra cheese and it was grate!\\n\\nWhy did the pizza maker go broke? Because he kneaded dough!',\n",
       " 'explanation': 'This joke is a play on words with the term \"saucy\", which can mean behaving in a bold or cheeky manner, as well as referring to pizza sauce. The punchline suggests that the pizza went to the party in order to act a little bold or cheeky, but also plays on the fact that pizza sauce is a key ingredient in pizza. Overall, the joke combines both literal and figurative interpretations of the word \"saucy\" for a humorous effect.'}"
      ]
     },
     "execution_count": 19,
     "metadata": {},
     "output_type": "execute_result"
    }
   ],
   "source": [
    "workflow.invoke(None, {'configurable': {\"thread_id\": \"1\", 'checkpoint_id': '1f070a0f-8e69-6058-8000-80892ddec361'}})"
   ]
  },
  {
   "cell_type": "code",
   "execution_count": 20,
   "id": "898dbf4c",
   "metadata": {},
   "outputs": [
    {
     "data": {
      "text/plain": [
       "[StateSnapshot(values={'topic': 'pizza', 'joke': 'Why did the pizza go to the party? Because it wanted to get a little saucy!\\n\\nI ordered a pizza with extra cheese and it was grate!\\n\\nWhy did the pizza maker go broke? Because he kneaded dough!', 'explanation': 'This joke is a play on words with the term \"saucy\", which can mean behaving in a bold or cheeky manner, as well as referring to pizza sauce. The punchline suggests that the pizza went to the party in order to act a little bold or cheeky, but also plays on the fact that pizza sauce is a key ingredient in pizza. Overall, the joke combines both literal and figurative interpretations of the word \"saucy\" for a humorous effect.'}, next=(), config={'configurable': {'thread_id': '1', 'checkpoint_ns': '', 'checkpoint_id': '1f070a35-7298-6b0e-8002-3c539dfdd662'}}, metadata={'source': 'loop', 'writes': {'generate_explanation': {'explanation': 'This joke is a play on words with the term \"saucy\", which can mean behaving in a bold or cheeky manner, as well as referring to pizza sauce. The punchline suggests that the pizza went to the party in order to act a little bold or cheeky, but also plays on the fact that pizza sauce is a key ingredient in pizza. Overall, the joke combines both literal and figurative interpretations of the word \"saucy\" for a humorous effect.'}}, 'thread_id': '1', 'checkpoint_id': '1f070a0f-8e69-6058-8000-80892ddec361', 'step': 2, 'parents': {}}, created_at='2025-08-03T19:52:09.280555+00:00', parent_config={'configurable': {'thread_id': '1', 'checkpoint_ns': '', 'checkpoint_id': '1f070a35-6397-618e-8001-6a38552c940e'}}, tasks=()),\n",
       " StateSnapshot(values={'topic': 'pizza', 'joke': 'Why did the pizza go to the party? Because it wanted to get a little saucy!\\n\\nI ordered a pizza with extra cheese and it was grate!\\n\\nWhy did the pizza maker go broke? Because he kneaded dough!'}, next=('generate_explanation',), config={'configurable': {'thread_id': '1', 'checkpoint_ns': '', 'checkpoint_id': '1f070a35-6397-618e-8001-6a38552c940e'}}, metadata={'source': 'loop', 'writes': {'generate_joke': {'joke': 'Why did the pizza go to the party? Because it wanted to get a little saucy!\\n\\nI ordered a pizza with extra cheese and it was grate!\\n\\nWhy did the pizza maker go broke? Because he kneaded dough!'}}, 'thread_id': '1', 'checkpoint_id': '1f070a0f-8e69-6058-8000-80892ddec361', 'step': 1, 'parents': {}}, created_at='2025-08-03T19:52:07.707026+00:00', parent_config={'configurable': {'thread_id': '1', 'checkpoint_ns': '', 'checkpoint_id': '1f070a0f-8e69-6058-8000-80892ddec361'}}, tasks=(PregelTask(id='43703e51-89cb-9d72-b9b2-9a23336d6fa1', name='generate_explanation', path=('__pregel_pull', 'generate_explanation'), error=None, interrupts=(), state=None, result={'explanation': 'This joke is a play on words with the term \"saucy\", which can mean behaving in a bold or cheeky manner, as well as referring to pizza sauce. The punchline suggests that the pizza went to the party in order to act a little bold or cheeky, but also plays on the fact that pizza sauce is a key ingredient in pizza. Overall, the joke combines both literal and figurative interpretations of the word \"saucy\" for a humorous effect.'}),)),\n",
       " StateSnapshot(values={'topic': 'sandwitch', 'joke': 'Why did the sandwich go to the dentist? Because it had a filling!', 'explanation': 'This joke plays on the double meaning of the word \"filling.\" In dentistry, a filling is a material used to repair a cavity in a tooth. However, in the context of a sandwich, a filling refers to the tasty ingredients that are placed between the bread. So, when the joke says the sandwich went to the dentist because it had a filling, it is meant to be a play on words and not to be taken literally. It is a lighthearted and silly way to humorously explain why the sandwich needed to see the dentist.'}, next=(), config={'configurable': {'thread_id': '1', 'checkpoint_ns': '', 'checkpoint_id': '1f070a15-ac39-6ac1-8006-eaf746035ebc'}}, metadata={'source': 'loop', 'writes': {'generate_explanation': {'explanation': 'This joke plays on the double meaning of the word \"filling.\" In dentistry, a filling is a material used to repair a cavity in a tooth. However, in the context of a sandwich, a filling refers to the tasty ingredients that are placed between the bread. So, when the joke says the sandwich went to the dentist because it had a filling, it is meant to be a play on words and not to be taken literally. It is a lighthearted and silly way to humorously explain why the sandwich needed to see the dentist.'}}, 'thread_id': '1', 'step': 6, 'parents': {}}, created_at='2025-08-03T19:37:56.329910+00:00', parent_config={'configurable': {'thread_id': '1', 'checkpoint_ns': '', 'checkpoint_id': '1f070a15-9853-63ef-8005-29f999e7b0d5'}}, tasks=()),\n",
       " StateSnapshot(values={'topic': 'sandwitch', 'joke': 'Why did the sandwich go to the dentist? Because it had a filling!', 'explanation': 'This joke plays on the double meaning of the phrase \"life of the party.\" In one sense, being the life of the party means being the most lively and entertaining person at the gathering. In another sense, the term \"life of the party\" can also refer to someone or something that is essential to the success and enjoyment of the event. In this case, the pizza humorously decides to go to the party because it wants to be considered the essential and most popular item at the event, in essence, being the \"life of the party.\"'}, next=('generate_explanation',), config={'configurable': {'thread_id': '1', 'checkpoint_ns': '', 'checkpoint_id': '1f070a15-9853-63ef-8005-29f999e7b0d5'}}, metadata={'source': 'loop', 'writes': {'generate_joke': {'joke': 'Why did the sandwich go to the dentist? Because it had a filling!'}}, 'thread_id': '1', 'step': 5, 'parents': {}}, created_at='2025-08-03T19:37:54.243240+00:00', parent_config={'configurable': {'thread_id': '1', 'checkpoint_ns': '', 'checkpoint_id': '1f070a15-8f03-6002-8004-f1907adf42c3'}}, tasks=(PregelTask(id='9360b82a-98da-47a3-4fb7-5fc2c00f3f2e', name='generate_explanation', path=('__pregel_pull', 'generate_explanation'), error=None, interrupts=(), state=None, result={'explanation': 'This joke plays on the double meaning of the word \"filling.\" In dentistry, a filling is a material used to repair a cavity in a tooth. However, in the context of a sandwich, a filling refers to the tasty ingredients that are placed between the bread. So, when the joke says the sandwich went to the dentist because it had a filling, it is meant to be a play on words and not to be taken literally. It is a lighthearted and silly way to humorously explain why the sandwich needed to see the dentist.'}),)),\n",
       " StateSnapshot(values={'topic': 'sandwitch', 'joke': 'Why did the pizza go to the party? Because it wanted to be the \"life of the party\"!', 'explanation': 'This joke plays on the double meaning of the phrase \"life of the party.\" In one sense, being the life of the party means being the most lively and entertaining person at the gathering. In another sense, the term \"life of the party\" can also refer to someone or something that is essential to the success and enjoyment of the event. In this case, the pizza humorously decides to go to the party because it wants to be considered the essential and most popular item at the event, in essence, being the \"life of the party.\"'}, next=('generate_joke',), config={'configurable': {'thread_id': '1', 'checkpoint_ns': '', 'checkpoint_id': '1f070a15-8f03-6002-8004-f1907adf42c3'}}, metadata={'source': 'loop', 'writes': None, 'thread_id': '1', 'step': 4, 'parents': {}}, created_at='2025-08-03T19:37:53.266628+00:00', parent_config={'configurable': {'thread_id': '1', 'checkpoint_ns': '', 'checkpoint_id': '1f070a15-8efd-6f6b-8003-79379b79630b'}}, tasks=(PregelTask(id='10140892-74c1-fa73-7856-d9dc6a5efb78', name='generate_joke', path=('__pregel_pull', 'generate_joke'), error=None, interrupts=(), state=None, result={'joke': 'Why did the sandwich go to the dentist? Because it had a filling!'}),)),\n",
       " StateSnapshot(values={'topic': 'pizza', 'joke': 'Why did the pizza go to the party? Because it wanted to be the \"life of the party\"!', 'explanation': 'This joke plays on the double meaning of the phrase \"life of the party.\" In one sense, being the life of the party means being the most lively and entertaining person at the gathering. In another sense, the term \"life of the party\" can also refer to someone or something that is essential to the success and enjoyment of the event. In this case, the pizza humorously decides to go to the party because it wants to be considered the essential and most popular item at the event, in essence, being the \"life of the party.\"'}, next=('__start__',), config={'configurable': {'thread_id': '1', 'checkpoint_ns': '', 'checkpoint_id': '1f070a15-8efd-6f6b-8003-79379b79630b'}}, metadata={'source': 'input', 'writes': {'__start__': {'topic': 'sandwitch'}}, 'thread_id': '1', 'step': 3, 'parents': {}}, created_at='2025-08-03T19:37:53.264589+00:00', parent_config={'configurable': {'thread_id': '1', 'checkpoint_ns': '', 'checkpoint_id': '1f070a0f-f7f6-6f36-8002-04dd9f991914'}}, tasks=(PregelTask(id='77b202c2-fec9-105f-a434-c50d068867ed', name='__start__', path=('__pregel_pull', '__start__'), error=None, interrupts=(), state=None, result={'topic': 'sandwitch'}),)),\n",
       " StateSnapshot(values={'topic': 'pizza', 'joke': 'Why did the pizza go to the party? Because it wanted to be the \"life of the party\"!', 'explanation': 'This joke plays on the double meaning of the phrase \"life of the party.\" In one sense, being the life of the party means being the most lively and entertaining person at the gathering. In another sense, the term \"life of the party\" can also refer to someone or something that is essential to the success and enjoyment of the event. In this case, the pizza humorously decides to go to the party because it wants to be considered the essential and most popular item at the event, in essence, being the \"life of the party.\"'}, next=(), config={'configurable': {'thread_id': '1', 'checkpoint_ns': '', 'checkpoint_id': '1f070a0f-f7f6-6f36-8002-04dd9f991914'}}, metadata={'source': 'loop', 'writes': {'generate_explanation': {'explanation': 'This joke plays on the double meaning of the phrase \"life of the party.\" In one sense, being the life of the party means being the most lively and entertaining person at the gathering. In another sense, the term \"life of the party\" can also refer to someone or something that is essential to the success and enjoyment of the event. In this case, the pizza humorously decides to go to the party because it wants to be considered the essential and most popular item at the event, in essence, being the \"life of the party.\"'}}, 'thread_id': '1', 'step': 2, 'parents': {}}, created_at='2025-08-03T19:35:23.210493+00:00', parent_config={'configurable': {'thread_id': '1', 'checkpoint_ns': '', 'checkpoint_id': '1f070a0f-db1a-6d37-8001-367af02be3a9'}}, tasks=()),\n",
       " StateSnapshot(values={'topic': 'pizza', 'joke': 'Why did the pizza go to the party? Because it wanted to be the \"life of the party\"!'}, next=('generate_explanation',), config={'configurable': {'thread_id': '1', 'checkpoint_ns': '', 'checkpoint_id': '1f070a0f-db1a-6d37-8001-367af02be3a9'}}, metadata={'source': 'loop', 'writes': {'generate_joke': {'joke': 'Why did the pizza go to the party? Because it wanted to be the \"life of the party\"!'}}, 'thread_id': '1', 'step': 1, 'parents': {}}, created_at='2025-08-03T19:35:20.184319+00:00', parent_config={'configurable': {'thread_id': '1', 'checkpoint_ns': '', 'checkpoint_id': '1f070a0f-8e69-6058-8000-80892ddec361'}}, tasks=(PregelTask(id='06aab0dd-0da6-2358-e248-da92c9fdda7c', name='generate_explanation', path=('__pregel_pull', 'generate_explanation'), error=None, interrupts=(), state=None, result={'explanation': 'This joke plays on the double meaning of the phrase \"life of the party.\" In one sense, being the life of the party means being the most lively and entertaining person at the gathering. In another sense, the term \"life of the party\" can also refer to someone or something that is essential to the success and enjoyment of the event. In this case, the pizza humorously decides to go to the party because it wants to be considered the essential and most popular item at the event, in essence, being the \"life of the party.\"'}),)),\n",
       " StateSnapshot(values={'topic': 'pizza'}, next=('generate_joke',), config={'configurable': {'thread_id': '1', 'checkpoint_ns': '', 'checkpoint_id': '1f070a0f-8e69-6058-8000-80892ddec361'}}, metadata={'source': 'loop', 'writes': None, 'thread_id': '1', 'step': 0, 'parents': {}}, created_at='2025-08-03T19:35:12.142292+00:00', parent_config={'configurable': {'thread_id': '1', 'checkpoint_ns': '', 'checkpoint_id': '1f070a0f-8e60-6d6a-bfff-6011f6a4e732'}}, tasks=(PregelTask(id='4ee39e55-7508-c0e7-fcd7-cef8ca8b8821', name='generate_joke', path=('__pregel_pull', 'generate_joke'), error=None, interrupts=(), state=None, result={'joke': 'Why did the pizza go to the party? Because it wanted to be the \"life of the party\"!'}),)),\n",
       " StateSnapshot(values={}, next=('__start__',), config={'configurable': {'thread_id': '1', 'checkpoint_ns': '', 'checkpoint_id': '1f070a0f-8e60-6d6a-bfff-6011f6a4e732'}}, metadata={'source': 'input', 'writes': {'__start__': {'topic': 'pizza'}}, 'thread_id': '1', 'step': -1, 'parents': {}}, created_at='2025-08-03T19:35:12.138953+00:00', parent_config=None, tasks=(PregelTask(id='a2f706dd-67f7-6c91-f8b8-ce72e8550067', name='__start__', path=('__pregel_pull', '__start__'), error=None, interrupts=(), state=None, result={'topic': 'pizza'}),))]"
      ]
     },
     "execution_count": 20,
     "metadata": {},
     "output_type": "execute_result"
    }
   ],
   "source": [
    "list(workflow.get_state_history(config1))"
   ]
  },
  {
   "cell_type": "markdown",
   "id": "048fc3ac",
   "metadata": {},
   "source": [
    "## Update State"
   ]
  },
  {
   "cell_type": "code",
   "execution_count": 26,
   "id": "598e84d0",
   "metadata": {},
   "outputs": [
    {
     "data": {
      "text/plain": [
       "{'configurable': {'thread_id': '1',\n",
       "  'checkpoint_ns': '',\n",
       "  'checkpoint_id': '1f070a45-a6f5-6a3f-8001-fad962ee2d67'}}"
      ]
     },
     "execution_count": 26,
     "metadata": {},
     "output_type": "execute_result"
    }
   ],
   "source": [
    "workflow.update_state({'configurable': {\"thread_id\": \"1\", 'checkpoint_id': '1f070a0f-8e69-6058-8000-80892ddec361', 'checkpoint_ns': \"\"}}, {'topic': 'samosa'})"
   ]
  },
  {
   "cell_type": "code",
   "execution_count": 28,
   "id": "8e90bbbe",
   "metadata": {},
   "outputs": [
    {
     "data": {
      "text/plain": [
       "{'topic': 'samosa',\n",
       " 'joke': 'Why did the samosa go to therapy? Because it had too many layers to unpack!',\n",
       " 'explanation': 'This joke plays on the idea of a samosa, a popular Indian snack with multiple layers of crispy dough filled with spiced potatoes and other ingredients. In therapy, patients often talk about their feelings and experiences, metaphorically \"unpacking\" their emotions and thoughts to better understand themselves. The joke humorously suggests that the samosa went to therapy because it had too many layers (literally) to unpack, implying that the snack itself was feeling overwhelmed by its own complexity.'}"
      ]
     },
     "execution_count": 28,
     "metadata": {},
     "output_type": "execute_result"
    }
   ],
   "source": [
    "workflow.invoke(None, {'configurable': {\"thread_id\": \"1\", 'checkpoint_id': '1f070a45-a6f5-6a3f-8001-fad962ee2d67'}})"
   ]
  },
  {
   "cell_type": "code",
   "execution_count": 29,
   "id": "8658312e",
   "metadata": {},
   "outputs": [
    {
     "data": {
      "text/plain": [
       "[StateSnapshot(values={'topic': 'samosa', 'joke': 'Why did the samosa go to therapy? Because it had too many layers to unpack!', 'explanation': 'This joke plays on the idea of a samosa, a popular Indian snack with multiple layers of crispy dough filled with spiced potatoes and other ingredients. In therapy, patients often talk about their feelings and experiences, metaphorically \"unpacking\" their emotions and thoughts to better understand themselves. The joke humorously suggests that the samosa went to therapy because it had too many layers (literally) to unpack, implying that the snack itself was feeling overwhelmed by its own complexity.'}, next=(), config={'configurable': {'thread_id': '1', 'checkpoint_ns': '', 'checkpoint_id': '1f070a46-65d0-6dd3-8003-f4df18810444'}}, metadata={'source': 'loop', 'writes': {'generate_explanation': {'explanation': 'This joke plays on the idea of a samosa, a popular Indian snack with multiple layers of crispy dough filled with spiced potatoes and other ingredients. In therapy, patients often talk about their feelings and experiences, metaphorically \"unpacking\" their emotions and thoughts to better understand themselves. The joke humorously suggests that the samosa went to therapy because it had too many layers (literally) to unpack, implying that the snack itself was feeling overwhelmed by its own complexity.'}}, 'thread_id': '1', 'checkpoint_id': '1f070a45-a6f5-6a3f-8001-fad962ee2d67', 'step': 3, 'parents': {}}, created_at='2025-08-03T19:59:44.280690+00:00', parent_config={'configurable': {'thread_id': '1', 'checkpoint_ns': '', 'checkpoint_id': '1f070a46-4f95-6fba-8002-178bd0854500'}}, tasks=()),\n",
       " StateSnapshot(values={'topic': 'samosa', 'joke': 'Why did the samosa go to therapy? Because it had too many layers to unpack!'}, next=('generate_explanation',), config={'configurable': {'thread_id': '1', 'checkpoint_ns': '', 'checkpoint_id': '1f070a46-4f95-6fba-8002-178bd0854500'}}, metadata={'source': 'loop', 'writes': {'generate_joke': {'joke': 'Why did the samosa go to therapy? Because it had too many layers to unpack!'}}, 'thread_id': '1', 'checkpoint_id': '1f070a45-a6f5-6a3f-8001-fad962ee2d67', 'step': 2, 'parents': {}}, created_at='2025-08-03T19:59:41.949616+00:00', parent_config={'configurable': {'thread_id': '1', 'checkpoint_ns': '', 'checkpoint_id': '1f070a45-a6f5-6a3f-8001-fad962ee2d67'}}, tasks=(PregelTask(id='0efc020a-c24e-a3c0-4087-5874e8ae0f85', name='generate_explanation', path=('__pregel_pull', 'generate_explanation'), error=None, interrupts=(), state=None, result={'explanation': 'This joke plays on the idea of a samosa, a popular Indian snack with multiple layers of crispy dough filled with spiced potatoes and other ingredients. In therapy, patients often talk about their feelings and experiences, metaphorically \"unpacking\" their emotions and thoughts to better understand themselves. The joke humorously suggests that the samosa went to therapy because it had too many layers (literally) to unpack, implying that the snack itself was feeling overwhelmed by its own complexity.'}),)),\n",
       " StateSnapshot(values={'topic': 'samosa'}, next=('generate_joke',), config={'configurable': {'thread_id': '1', 'checkpoint_ns': '', 'checkpoint_id': '1f070a45-a6f5-6a3f-8001-fad962ee2d67'}}, metadata={'source': 'update', 'writes': {'__start__': {'topic': 'samosa'}}, 'thread_id': '1', 'step': 1, 'parents': {}, 'checkpoint_id': '1f070a0f-8e69-6058-8000-80892ddec361', 'checkpoint_ns': ''}, created_at='2025-08-03T19:59:24.267925+00:00', parent_config={'configurable': {'thread_id': '1', 'checkpoint_ns': '', 'checkpoint_id': '1f070a0f-8e69-6058-8000-80892ddec361'}}, tasks=(PregelTask(id='b205030e-0a90-12e6-13b9-8bbf9669f39a', name='generate_joke', path=('__pregel_pull', 'generate_joke'), error=None, interrupts=(), state=None, result={'joke': 'Why did the samosa go to therapy? Because it had too many layers to unpack!'}),)),\n",
       " StateSnapshot(values={'topic': 'pizza', 'joke': 'Why did the slice of pizza go to the doctor? Because it was feeling a little saucy! \\n\\nWhat do you call a sleeping pizza? A piZZZZa!\\n\\nI asked the pizza delivery guy to make me one with everything. He said, \"Sorry, that\\'s a different restaurant!\"', 'explanation': 'The first joke plays on the word \"saucy,\" which can mean sassy or cheeky, but also refers to the tomato sauce typically found on pizza. The slice of pizza went to the doctor because it was feeling saucy, implying that it was both feeling sassy and needed some medical attention for being covered in sauce.\\n\\nThe second joke plays on the sound of a sleeping person snoring, using \"ZZZ\" to represent the sound. By calling a sleeping pizza a \"piZZZZa,\" it creates a light-hearted and punny image of a pizza that is asleep.\\n\\nThe third joke plays on the common phrase \"make me one with everything,\" which is usually said to a monk in a spiritual sense. But in this case, the pizza delivery guy misunderstands and responds that he can\\'t do that because it\\'s a different restaurant. This joke relies on a play on words and a slight misunderstanding for humor.'}, next=(), config={'configurable': {'thread_id': '1', 'checkpoint_ns': '', 'checkpoint_id': '1f070a42-dc7f-6c57-8002-87e8f0865315'}}, metadata={'source': 'loop', 'writes': {'generate_explanation': {'explanation': 'The first joke plays on the word \"saucy,\" which can mean sassy or cheeky, but also refers to the tomato sauce typically found on pizza. The slice of pizza went to the doctor because it was feeling saucy, implying that it was both feeling sassy and needed some medical attention for being covered in sauce.\\n\\nThe second joke plays on the sound of a sleeping person snoring, using \"ZZZ\" to represent the sound. By calling a sleeping pizza a \"piZZZZa,\" it creates a light-hearted and punny image of a pizza that is asleep.\\n\\nThe third joke plays on the common phrase \"make me one with everything,\" which is usually said to a monk in a spiritual sense. But in this case, the pizza delivery guy misunderstands and responds that he can\\'t do that because it\\'s a different restaurant. This joke relies on a play on words and a slight misunderstanding for humor.'}}, 'thread_id': '1', 'checkpoint_id': '1f070a0f-8e69-6058-8000-80892ddec361', 'step': 2, 'parents': {}}, created_at='2025-08-03T19:58:09.351304+00:00', parent_config={'configurable': {'thread_id': '1', 'checkpoint_ns': '', 'checkpoint_id': '1f070a42-c62b-6ddc-8001-55aad8ad9c23'}}, tasks=()),\n",
       " StateSnapshot(values={'topic': 'pizza', 'joke': 'Why did the slice of pizza go to the doctor? Because it was feeling a little saucy! \\n\\nWhat do you call a sleeping pizza? A piZZZZa!\\n\\nI asked the pizza delivery guy to make me one with everything. He said, \"Sorry, that\\'s a different restaurant!\"'}, next=('generate_explanation',), config={'configurable': {'thread_id': '1', 'checkpoint_ns': '', 'checkpoint_id': '1f070a42-c62b-6ddc-8001-55aad8ad9c23'}}, metadata={'source': 'loop', 'writes': {'generate_joke': {'joke': 'Why did the slice of pizza go to the doctor? Because it was feeling a little saucy! \\n\\nWhat do you call a sleeping pizza? A piZZZZa!\\n\\nI asked the pizza delivery guy to make me one with everything. He said, \"Sorry, that\\'s a different restaurant!\"'}}, 'thread_id': '1', 'checkpoint_id': '1f070a0f-8e69-6058-8000-80892ddec361', 'step': 1, 'parents': {}}, created_at='2025-08-03T19:58:07.010109+00:00', parent_config={'configurable': {'thread_id': '1', 'checkpoint_ns': '', 'checkpoint_id': '1f070a0f-8e69-6058-8000-80892ddec361'}}, tasks=(PregelTask(id='01b9c2e5-b7d5-bc12-b19b-3eadef7ca586', name='generate_explanation', path=('__pregel_pull', 'generate_explanation'), error=None, interrupts=(), state=None, result={'explanation': 'The first joke plays on the word \"saucy,\" which can mean sassy or cheeky, but also refers to the tomato sauce typically found on pizza. The slice of pizza went to the doctor because it was feeling saucy, implying that it was both feeling sassy and needed some medical attention for being covered in sauce.\\n\\nThe second joke plays on the sound of a sleeping person snoring, using \"ZZZ\" to represent the sound. By calling a sleeping pizza a \"piZZZZa,\" it creates a light-hearted and punny image of a pizza that is asleep.\\n\\nThe third joke plays on the common phrase \"make me one with everything,\" which is usually said to a monk in a spiritual sense. But in this case, the pizza delivery guy misunderstands and responds that he can\\'t do that because it\\'s a different restaurant. This joke relies on a play on words and a slight misunderstanding for humor.'}),)),\n",
       " StateSnapshot(values={'topic': 'samosa'}, next=('generate_joke',), config={'configurable': {'thread_id': '1', 'checkpoint_ns': '', 'checkpoint_id': '1f070a40-b22c-65ee-8001-e3d15506ab2c'}}, metadata={'source': 'update', 'writes': {'__start__': {'topic': 'samosa'}}, 'thread_id': '1', 'step': 1, 'parents': {}, 'checkpoint_id': '1f070a0f-8e69-6058-8000-80892ddec361', 'checkpoint_ns': ''}, created_at='2025-08-03T19:57:11.226062+00:00', parent_config={'configurable': {'thread_id': '1', 'checkpoint_ns': '', 'checkpoint_id': '1f070a0f-8e69-6058-8000-80892ddec361'}}, tasks=(PregelTask(id='11f3bf8e-5e74-2930-f792-5ae31c932774', name='generate_joke', path=('__pregel_pull', 'generate_joke'), error=None, interrupts=(), state=None, result=None),)),\n",
       " StateSnapshot(values={'topic': 'pizza', 'joke': 'Why did the pizza go to the party? Because it wanted to get a little saucy!\\n\\nI ordered a pizza with extra cheese and it was grate!\\n\\nWhy did the pizza maker go broke? Because he kneaded dough!', 'explanation': 'This joke is a play on words with the term \"saucy\", which can mean behaving in a bold or cheeky manner, as well as referring to pizza sauce. The punchline suggests that the pizza went to the party in order to act a little bold or cheeky, but also plays on the fact that pizza sauce is a key ingredient in pizza. Overall, the joke combines both literal and figurative interpretations of the word \"saucy\" for a humorous effect.'}, next=(), config={'configurable': {'thread_id': '1', 'checkpoint_ns': '', 'checkpoint_id': '1f070a35-7298-6b0e-8002-3c539dfdd662'}}, metadata={'source': 'loop', 'writes': {'generate_explanation': {'explanation': 'This joke is a play on words with the term \"saucy\", which can mean behaving in a bold or cheeky manner, as well as referring to pizza sauce. The punchline suggests that the pizza went to the party in order to act a little bold or cheeky, but also plays on the fact that pizza sauce is a key ingredient in pizza. Overall, the joke combines both literal and figurative interpretations of the word \"saucy\" for a humorous effect.'}}, 'thread_id': '1', 'checkpoint_id': '1f070a0f-8e69-6058-8000-80892ddec361', 'step': 2, 'parents': {}}, created_at='2025-08-03T19:52:09.280555+00:00', parent_config={'configurable': {'thread_id': '1', 'checkpoint_ns': '', 'checkpoint_id': '1f070a35-6397-618e-8001-6a38552c940e'}}, tasks=()),\n",
       " StateSnapshot(values={'topic': 'pizza', 'joke': 'Why did the pizza go to the party? Because it wanted to get a little saucy!\\n\\nI ordered a pizza with extra cheese and it was grate!\\n\\nWhy did the pizza maker go broke? Because he kneaded dough!'}, next=('generate_explanation',), config={'configurable': {'thread_id': '1', 'checkpoint_ns': '', 'checkpoint_id': '1f070a35-6397-618e-8001-6a38552c940e'}}, metadata={'source': 'loop', 'writes': {'generate_joke': {'joke': 'Why did the pizza go to the party? Because it wanted to get a little saucy!\\n\\nI ordered a pizza with extra cheese and it was grate!\\n\\nWhy did the pizza maker go broke? Because he kneaded dough!'}}, 'thread_id': '1', 'checkpoint_id': '1f070a0f-8e69-6058-8000-80892ddec361', 'step': 1, 'parents': {}}, created_at='2025-08-03T19:52:07.707026+00:00', parent_config={'configurable': {'thread_id': '1', 'checkpoint_ns': '', 'checkpoint_id': '1f070a0f-8e69-6058-8000-80892ddec361'}}, tasks=(PregelTask(id='43703e51-89cb-9d72-b9b2-9a23336d6fa1', name='generate_explanation', path=('__pregel_pull', 'generate_explanation'), error=None, interrupts=(), state=None, result={'explanation': 'This joke is a play on words with the term \"saucy\", which can mean behaving in a bold or cheeky manner, as well as referring to pizza sauce. The punchline suggests that the pizza went to the party in order to act a little bold or cheeky, but also plays on the fact that pizza sauce is a key ingredient in pizza. Overall, the joke combines both literal and figurative interpretations of the word \"saucy\" for a humorous effect.'}),)),\n",
       " StateSnapshot(values={'topic': 'sandwitch', 'joke': 'Why did the sandwich go to the dentist? Because it had a filling!', 'explanation': 'This joke plays on the double meaning of the word \"filling.\" In dentistry, a filling is a material used to repair a cavity in a tooth. However, in the context of a sandwich, a filling refers to the tasty ingredients that are placed between the bread. So, when the joke says the sandwich went to the dentist because it had a filling, it is meant to be a play on words and not to be taken literally. It is a lighthearted and silly way to humorously explain why the sandwich needed to see the dentist.'}, next=(), config={'configurable': {'thread_id': '1', 'checkpoint_ns': '', 'checkpoint_id': '1f070a15-ac39-6ac1-8006-eaf746035ebc'}}, metadata={'source': 'loop', 'writes': {'generate_explanation': {'explanation': 'This joke plays on the double meaning of the word \"filling.\" In dentistry, a filling is a material used to repair a cavity in a tooth. However, in the context of a sandwich, a filling refers to the tasty ingredients that are placed between the bread. So, when the joke says the sandwich went to the dentist because it had a filling, it is meant to be a play on words and not to be taken literally. It is a lighthearted and silly way to humorously explain why the sandwich needed to see the dentist.'}}, 'thread_id': '1', 'step': 6, 'parents': {}}, created_at='2025-08-03T19:37:56.329910+00:00', parent_config={'configurable': {'thread_id': '1', 'checkpoint_ns': '', 'checkpoint_id': '1f070a15-9853-63ef-8005-29f999e7b0d5'}}, tasks=()),\n",
       " StateSnapshot(values={'topic': 'sandwitch', 'joke': 'Why did the sandwich go to the dentist? Because it had a filling!', 'explanation': 'This joke plays on the double meaning of the phrase \"life of the party.\" In one sense, being the life of the party means being the most lively and entertaining person at the gathering. In another sense, the term \"life of the party\" can also refer to someone or something that is essential to the success and enjoyment of the event. In this case, the pizza humorously decides to go to the party because it wants to be considered the essential and most popular item at the event, in essence, being the \"life of the party.\"'}, next=('generate_explanation',), config={'configurable': {'thread_id': '1', 'checkpoint_ns': '', 'checkpoint_id': '1f070a15-9853-63ef-8005-29f999e7b0d5'}}, metadata={'source': 'loop', 'writes': {'generate_joke': {'joke': 'Why did the sandwich go to the dentist? Because it had a filling!'}}, 'thread_id': '1', 'step': 5, 'parents': {}}, created_at='2025-08-03T19:37:54.243240+00:00', parent_config={'configurable': {'thread_id': '1', 'checkpoint_ns': '', 'checkpoint_id': '1f070a15-8f03-6002-8004-f1907adf42c3'}}, tasks=(PregelTask(id='9360b82a-98da-47a3-4fb7-5fc2c00f3f2e', name='generate_explanation', path=('__pregel_pull', 'generate_explanation'), error=None, interrupts=(), state=None, result={'explanation': 'This joke plays on the double meaning of the word \"filling.\" In dentistry, a filling is a material used to repair a cavity in a tooth. However, in the context of a sandwich, a filling refers to the tasty ingredients that are placed between the bread. So, when the joke says the sandwich went to the dentist because it had a filling, it is meant to be a play on words and not to be taken literally. It is a lighthearted and silly way to humorously explain why the sandwich needed to see the dentist.'}),)),\n",
       " StateSnapshot(values={'topic': 'sandwitch', 'joke': 'Why did the pizza go to the party? Because it wanted to be the \"life of the party\"!', 'explanation': 'This joke plays on the double meaning of the phrase \"life of the party.\" In one sense, being the life of the party means being the most lively and entertaining person at the gathering. In another sense, the term \"life of the party\" can also refer to someone or something that is essential to the success and enjoyment of the event. In this case, the pizza humorously decides to go to the party because it wants to be considered the essential and most popular item at the event, in essence, being the \"life of the party.\"'}, next=('generate_joke',), config={'configurable': {'thread_id': '1', 'checkpoint_ns': '', 'checkpoint_id': '1f070a15-8f03-6002-8004-f1907adf42c3'}}, metadata={'source': 'loop', 'writes': None, 'thread_id': '1', 'step': 4, 'parents': {}}, created_at='2025-08-03T19:37:53.266628+00:00', parent_config={'configurable': {'thread_id': '1', 'checkpoint_ns': '', 'checkpoint_id': '1f070a15-8efd-6f6b-8003-79379b79630b'}}, tasks=(PregelTask(id='10140892-74c1-fa73-7856-d9dc6a5efb78', name='generate_joke', path=('__pregel_pull', 'generate_joke'), error=None, interrupts=(), state=None, result={'joke': 'Why did the sandwich go to the dentist? Because it had a filling!'}),)),\n",
       " StateSnapshot(values={'topic': 'pizza', 'joke': 'Why did the pizza go to the party? Because it wanted to be the \"life of the party\"!', 'explanation': 'This joke plays on the double meaning of the phrase \"life of the party.\" In one sense, being the life of the party means being the most lively and entertaining person at the gathering. In another sense, the term \"life of the party\" can also refer to someone or something that is essential to the success and enjoyment of the event. In this case, the pizza humorously decides to go to the party because it wants to be considered the essential and most popular item at the event, in essence, being the \"life of the party.\"'}, next=('__start__',), config={'configurable': {'thread_id': '1', 'checkpoint_ns': '', 'checkpoint_id': '1f070a15-8efd-6f6b-8003-79379b79630b'}}, metadata={'source': 'input', 'writes': {'__start__': {'topic': 'sandwitch'}}, 'thread_id': '1', 'step': 3, 'parents': {}}, created_at='2025-08-03T19:37:53.264589+00:00', parent_config={'configurable': {'thread_id': '1', 'checkpoint_ns': '', 'checkpoint_id': '1f070a0f-f7f6-6f36-8002-04dd9f991914'}}, tasks=(PregelTask(id='77b202c2-fec9-105f-a434-c50d068867ed', name='__start__', path=('__pregel_pull', '__start__'), error=None, interrupts=(), state=None, result={'topic': 'sandwitch'}),)),\n",
       " StateSnapshot(values={'topic': 'pizza', 'joke': 'Why did the pizza go to the party? Because it wanted to be the \"life of the party\"!', 'explanation': 'This joke plays on the double meaning of the phrase \"life of the party.\" In one sense, being the life of the party means being the most lively and entertaining person at the gathering. In another sense, the term \"life of the party\" can also refer to someone or something that is essential to the success and enjoyment of the event. In this case, the pizza humorously decides to go to the party because it wants to be considered the essential and most popular item at the event, in essence, being the \"life of the party.\"'}, next=(), config={'configurable': {'thread_id': '1', 'checkpoint_ns': '', 'checkpoint_id': '1f070a0f-f7f6-6f36-8002-04dd9f991914'}}, metadata={'source': 'loop', 'writes': {'generate_explanation': {'explanation': 'This joke plays on the double meaning of the phrase \"life of the party.\" In one sense, being the life of the party means being the most lively and entertaining person at the gathering. In another sense, the term \"life of the party\" can also refer to someone or something that is essential to the success and enjoyment of the event. In this case, the pizza humorously decides to go to the party because it wants to be considered the essential and most popular item at the event, in essence, being the \"life of the party.\"'}}, 'thread_id': '1', 'step': 2, 'parents': {}}, created_at='2025-08-03T19:35:23.210493+00:00', parent_config={'configurable': {'thread_id': '1', 'checkpoint_ns': '', 'checkpoint_id': '1f070a0f-db1a-6d37-8001-367af02be3a9'}}, tasks=()),\n",
       " StateSnapshot(values={'topic': 'pizza', 'joke': 'Why did the pizza go to the party? Because it wanted to be the \"life of the party\"!'}, next=('generate_explanation',), config={'configurable': {'thread_id': '1', 'checkpoint_ns': '', 'checkpoint_id': '1f070a0f-db1a-6d37-8001-367af02be3a9'}}, metadata={'source': 'loop', 'writes': {'generate_joke': {'joke': 'Why did the pizza go to the party? Because it wanted to be the \"life of the party\"!'}}, 'thread_id': '1', 'step': 1, 'parents': {}}, created_at='2025-08-03T19:35:20.184319+00:00', parent_config={'configurable': {'thread_id': '1', 'checkpoint_ns': '', 'checkpoint_id': '1f070a0f-8e69-6058-8000-80892ddec361'}}, tasks=(PregelTask(id='06aab0dd-0da6-2358-e248-da92c9fdda7c', name='generate_explanation', path=('__pregel_pull', 'generate_explanation'), error=None, interrupts=(), state=None, result={'explanation': 'This joke plays on the double meaning of the phrase \"life of the party.\" In one sense, being the life of the party means being the most lively and entertaining person at the gathering. In another sense, the term \"life of the party\" can also refer to someone or something that is essential to the success and enjoyment of the event. In this case, the pizza humorously decides to go to the party because it wants to be considered the essential and most popular item at the event, in essence, being the \"life of the party.\"'}),)),\n",
       " StateSnapshot(values={'topic': 'pizza'}, next=('generate_joke',), config={'configurable': {'thread_id': '1', 'checkpoint_ns': '', 'checkpoint_id': '1f070a0f-8e69-6058-8000-80892ddec361'}}, metadata={'source': 'loop', 'writes': None, 'thread_id': '1', 'step': 0, 'parents': {}}, created_at='2025-08-03T19:35:12.142292+00:00', parent_config={'configurable': {'thread_id': '1', 'checkpoint_ns': '', 'checkpoint_id': '1f070a0f-8e60-6d6a-bfff-6011f6a4e732'}}, tasks=(PregelTask(id='4ee39e55-7508-c0e7-fcd7-cef8ca8b8821', name='generate_joke', path=('__pregel_pull', 'generate_joke'), error=None, interrupts=(), state=None, result={'joke': 'Why did the pizza go to the party? Because it wanted to be the \"life of the party\"!'}),)),\n",
       " StateSnapshot(values={}, next=('__start__',), config={'configurable': {'thread_id': '1', 'checkpoint_ns': '', 'checkpoint_id': '1f070a0f-8e60-6d6a-bfff-6011f6a4e732'}}, metadata={'source': 'input', 'writes': {'__start__': {'topic': 'pizza'}}, 'thread_id': '1', 'step': -1, 'parents': {}}, created_at='2025-08-03T19:35:12.138953+00:00', parent_config=None, tasks=(PregelTask(id='a2f706dd-67f7-6c91-f8b8-ce72e8550067', name='__start__', path=('__pregel_pull', '__start__'), error=None, interrupts=(), state=None, result={'topic': 'pizza'}),))]"
      ]
     },
     "execution_count": 29,
     "metadata": {},
     "output_type": "execute_result"
    }
   ],
   "source": [
    "list(workflow.get_state_history(config1))"
   ]
  },
  {
   "cell_type": "code",
   "execution_count": null,
   "id": "7041727f",
   "metadata": {},
   "outputs": [],
   "source": []
  }
 ],
 "metadata": {
  "kernelspec": {
   "display_name": "global_env",
   "language": "python",
   "name": "global_env"
  },
  "language_info": {
   "codemirror_mode": {
    "name": "ipython",
    "version": 3
   },
   "file_extension": ".py",
   "mimetype": "text/x-python",
   "name": "python",
   "nbconvert_exporter": "python",
   "pygments_lexer": "ipython3",
   "version": "3.12.0"
  }
 },
 "nbformat": 4,
 "nbformat_minor": 5
}
